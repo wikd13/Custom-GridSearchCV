{
 "cells": [
  {
   "cell_type": "code",
   "execution_count": 1,
   "source": [
    "from sklearn.datasets import make_classification\n",
    "from sklearn.model_selection import train_test_split\n",
    "from sklearn.preprocessing import StandardScaler\n",
    "import numpy\n",
    "from tqdm import tqdm\n",
    "import numpy as np\n",
    "from sklearn.metrics.pairwise import euclidean_distances\n",
    "\n",
    "\n",
    "x,y = make_classification(n_samples=10000, n_features=2, n_informative=2, n_redundant= 0, n_clusters_per_class=1, random_state=60)\n",
    "X_train, X_test, y_train, y_test = train_test_split(x,y,stratify=y,random_state=42)\n",
    "\n",
    "# del X_train,X_test"
   ],
   "outputs": [],
   "metadata": {
    "ExecuteTime": {
     "end_time": "2021-08-09T08:31:14.882526Z",
     "start_time": "2021-08-09T08:31:13.928331Z"
    },
    "id": "ZcCHqcAMk0su"
   }
  },
  {
   "cell_type": "code",
   "execution_count": 2,
   "source": [
    "%matplotlib inline\n",
    "import matplotlib.pyplot as plt\n",
    "#colors = {0:'orange', 1:'blue'}\n",
    "plt.scatter(X_test[:,0], X_test[:,1],c=y_test)\n",
    "plt.show()"
   ],
   "outputs": [],
   "metadata": {
    "ExecuteTime": {
     "end_time": "2021-08-09T08:31:15.337581Z",
     "start_time": "2021-08-09T08:31:14.884667Z"
    },
    "colab": {
     "base_uri": "https://localhost:8080/",
     "height": 265
    },
    "id": "4pUkhsmkk0s2",
    "outputId": "2483d456-d13c-40bf-d087-0d0a0d293e15"
   }
  },
  {
   "cell_type": "markdown",
   "source": [
    "# Implementing Custom GridSearchCV"
   ],
   "metadata": {
    "id": "hkcerMvNk0s9"
   }
  },
  {
   "cell_type": "code",
   "execution_count": null,
   "source": [
    "# it will take classifier and set of values for hyper prameter in dict type dict({hyper parmeter: [list of values]})\n",
    "# we are implementing this only for KNN, the hyper parameter should n_neighbors\n",
    "from sklearn.metrics import accuracy_score\n",
    "def randomly_select_60_percent_indices_in_range_from_1_to_len(x_train):\n",
    "    return random.sample(range(0, len(x_train)), int(0.6*len(x_train)))\n",
    "\n",
    "def GridSearch(x_train,y_train,classifier, params, folds):\n",
    "    trainscores = []\n",
    "    testscores  = []    \n",
    "    for k in tqdm(params['n_neighbors']):\n",
    "        trainscores_folds = []\n",
    "        testscores_folds  = []\n",
    "        for j in range(0, folds):\n",
    "            # check this out: https://stackoverflow.com/a/9755548/4084039\n",
    "            train_indices = randomly_select_60_percent_indices_in_range_from_1_to_len(x_train)\n",
    "            test_indices  = list(set(list(range(1, len(x_train)))) - set(train_indices))\n",
    "\n",
    "            # selecting the data points based on the train_indices and test_indices\n",
    "            X_train = x_train[train_indices]\n",
    "            Y_train = y_train[train_indices]\n",
    "            X_test  = x_train[test_indices]\n",
    "            Y_test  = y_train[test_indices]\n",
    "\n",
    "            classifier.n_neighbors = k\n",
    "            classifier.fit(X_train,Y_train)\n",
    "\n",
    "            Y_predicted = classifier.predict(X_test)\n",
    "            testscores_folds.append(accuracy_score(Y_test, Y_predicted))\n",
    "\n",
    "            Y_predicted = classifier.predict(X_train)\n",
    "            trainscores_folds.append(accuracy_score(Y_train, Y_predicted))\n",
    "        trainscores.append(np.mean(np.array(trainscores_folds)))\n",
    "        testscores.append(np.mean(np.array(testscores_folds)))\n",
    "    return trainscores,testscores"
   ],
   "outputs": [],
   "metadata": {
    "ExecuteTime": {
     "end_time": "2021-08-09T08:31:15.393014Z",
     "start_time": "2021-08-09T08:31:15.339190Z"
    },
    "id": "ECIhANaPk0s-"
   }
  },
  {
   "cell_type": "code",
   "execution_count": null,
   "source": [
    "from sklearn.metrics import accuracy_score\n",
    "from sklearn.neighbors import KNeighborsClassifier\n",
    "import matplotlib.pyplot as plt\n",
    "import random\n",
    "import warnings\n",
    "warnings.filterwarnings(\"ignore\")\n",
    "\n",
    "\n",
    "neigh = KNeighborsClassifier()\n",
    "\n",
    "params = {'n_neighbors':[3,5,7,9,11,13,15,17,19,21,23]}\n",
    "folds = 3\n",
    "\n",
    "trainscores,testscores = GridSearch(X_train, y_train, neigh, params, folds)\n",
    " \n",
    "\n",
    "plt.plot(params['n_neighbors'],trainscores, label='train cruve')\n",
    "plt.plot(params['n_neighbors'],testscores, label='test cruve')\n",
    "plt.title('Hyper-parameter VS accuracy plot')\n",
    "plt.legend()\n",
    "plt.show()"
   ],
   "outputs": [
    {
     "output_type": "stream",
     "name": "stderr",
     "text": [
      "100%|███████████████████████████████████████████| 11/11 [00:09<00:00,  1.22it/s]\n"
     ]
    },
    {
     "output_type": "display_data",
     "data": {
      "text/plain": [
       "<Figure size 432x288 with 1 Axes>"
      ],
      "image/png": "[encoded data removed]"
     },
     "metadata": {
      "needs_background": "light"
     }
    }
   ],
   "metadata": {
    "ExecuteTime": {
     "end_time": "2021-08-09T08:31:24.709317Z",
     "start_time": "2021-08-09T08:31:15.395714Z"
    },
    "id": "B9fI2tTck0tC",
    "outputId": "2af73eaa-d0bf-429c-f765-6ff35a4bd7d7"
   }
  },
  {
   "cell_type": "code",
   "execution_count": null,
   "source": [
    "# understanding this code line by line is not that importent \n",
    "def plot_decision_boundary(X1, X2, y, clf):\n",
    "        # Create color maps\n",
    "    cmap_light = ListedColormap(['#FFAAAA', '#AAFFAA', '#AAAAFF'])\n",
    "    cmap_bold = ListedColormap(['#FF0000', '#00FF00', '#0000FF'])\n",
    "\n",
    "    x_min, x_max = X1.min() - 1, X1.max() + 1\n",
    "    y_min, y_max = X2.min() - 1, X2.max() + 1\n",
    "    \n",
    "    xx, yy = np.meshgrid(np.arange(x_min, x_max, 0.02), np.arange(y_min, y_max, 0.02))\n",
    "    Z = clf.predict(np.c_[xx.ravel(), yy.ravel()])\n",
    "    Z = Z.reshape(xx.shape)\n",
    "\n",
    "    plt.figure()\n",
    "    plt.pcolormesh(xx, yy, Z, cmap=cmap_light)\n",
    "    # Plot also the training points\n",
    "    plt.scatter(X1, X2, c=y, cmap=cmap_bold)\n",
    "    \n",
    "    plt.xlim(xx.min(), xx.max())\n",
    "    plt.ylim(yy.min(), yy.max())\n",
    "    plt.title(\"2-Class classification (k = %i)\" % (clf.n_neighbors))\n",
    "    plt.show()"
   ],
   "outputs": [],
   "metadata": {
    "ExecuteTime": {
     "end_time": "2021-08-09T08:31:24.718579Z",
     "start_time": "2021-08-09T08:31:24.710868Z"
    },
    "id": "FxPdFjTjk0tG"
   }
  },
  {
   "cell_type": "code",
   "execution_count": null,
   "source": [
    "from matplotlib.colors import ListedColormap\n",
    "neigh = KNeighborsClassifier(n_neighbors = 21)\n",
    "neigh.fit(X_train, y_train)\n",
    "plot_decision_boundary(X_train[:, 0], X_train[:, 1], y_train, neigh)"
   ],
   "outputs": [
    {
     "output_type": "display_data",
     "data": {
      "text/plain": [
       "<Figure size 432x288 with 1 Axes>"
      ],
      "image/png": "[encoded data removed]"
     },
     "metadata": {
      "needs_background": "light"
     }
    }
   ],
   "metadata": {
    "ExecuteTime": {
     "end_time": "2021-08-09T08:31:32.338733Z",
     "start_time": "2021-08-09T08:31:24.720768Z"
    },
    "id": "qGOKiuBnk0tJ",
    "outputId": "a7133309-ee2e-4224-d670-367c650287bb"
   }
  }
 ],
 "metadata": {
  "colab": {
   "collapsed_sections": [],
   "name": "Assignment_4_Reference.ipynb",
   "provenance": []
  },
  "kernelspec": {
   "name": "python3",
   "display_name": "Python 3.8.10 64-bit ('my_project_env': venv)"
  },
  "language_info": {
   "codemirror_mode": {
    "name": "ipython",
    "version": 3
   },
   "file_extension": ".py",
   "mimetype": "text/x-python",
   "name": "python",
   "nbconvert_exporter": "python",
   "pygments_lexer": "ipython3",
   "version": "3.8.10"
  },
  "toc": {
   "base_numbering": 1,
   "nav_menu": {},
   "number_sections": true,
   "sideBar": true,
   "skip_h1_title": false,
   "title_cell": "Table of Contents",
   "title_sidebar": "Contents",
   "toc_cell": false,
   "toc_position": {},
   "toc_section_display": true,
   "toc_window_display": false
  },
  "varInspector": {
   "cols": {
    "lenName": 16,
    "lenType": 16,
    "lenVar": 40
   },
   "kernels_config": {
    "python": {
     "delete_cmd_postfix": "",
     "delete_cmd_prefix": "del ",
     "library": "var_list.py",
     "varRefreshCmd": "print(var_dic_list())"
    },
    "r": {
     "delete_cmd_postfix": ") ",
     "delete_cmd_prefix": "rm(",
     "library": "var_list.r",
     "varRefreshCmd": "cat(var_dic_list()) "
    }
   },
   "types_to_exclude": [
    "module",
    "function",
    "builtin_function_or_method",
    "instance",
    "_Feature"
   ],
   "window_display": false
  },
  "interpreter": {
   "hash": "f58a6cd34f31b48149450e0fc58fec2f238839739fe5321576c33629fa5bacb2"
  }
 },
 "nbformat": 4,
 "nbformat_minor": 1
}